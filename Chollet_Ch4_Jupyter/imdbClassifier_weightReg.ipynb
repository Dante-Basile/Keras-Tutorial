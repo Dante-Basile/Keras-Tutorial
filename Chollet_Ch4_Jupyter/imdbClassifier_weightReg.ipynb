{
 "cells": [
  {
   "cell_type": "markdown",
   "metadata": {},
   "source": [
    "# IMDB Reviews With Weight Regularization\n",
    "## Classify as positive or negative (binary classification problem)\n",
    "## Modified to compare default model with one using L2 Weight Regularization"
   ]
  },
  {
   "cell_type": "code",
   "execution_count": 1,
   "metadata": {},
   "outputs": [
    {
     "name": "stderr",
     "output_type": "stream",
     "text": [
      "Using TensorFlow backend.\n"
     ]
    }
   ],
   "source": [
    "from keras.datasets import imdb\n",
    "import numpy as np #numpy-1.16.1 for imdb.load_data() keras support: default np_load(allow_Pickle=True) "
   ]
  },
  {
   "cell_type": "markdown",
   "metadata": {},
   "source": [
    "# Load and Prepare Data"
   ]
  },
  {
   "cell_type": "code",
   "execution_count": 2,
   "metadata": {},
   "outputs": [],
   "source": [
    "(train_data, train_labels), (test_data, test_labels) = imdb.load_data(num_words=10000) #10000 most frequent"
   ]
  },
  {
   "cell_type": "code",
   "execution_count": 3,
   "metadata": {},
   "outputs": [
    {
     "data": {
      "text/plain": [
       "[1,\n",
       " 14,\n",
       " 22,\n",
       " 16,\n",
       " 43,\n",
       " 530,\n",
       " 973,\n",
       " 1622,\n",
       " 1385,\n",
       " 65,\n",
       " 458,\n",
       " 4468,\n",
       " 66,\n",
       " 3941,\n",
       " 4,\n",
       " 173,\n",
       " 36,\n",
       " 256,\n",
       " 5,\n",
       " 25,\n",
       " 100,\n",
       " 43,\n",
       " 838,\n",
       " 112,\n",
       " 50,\n",
       " 670,\n",
       " 2,\n",
       " 9,\n",
       " 35,\n",
       " 480,\n",
       " 284,\n",
       " 5,\n",
       " 150,\n",
       " 4,\n",
       " 172,\n",
       " 112,\n",
       " 167,\n",
       " 2,\n",
       " 336,\n",
       " 385,\n",
       " 39,\n",
       " 4,\n",
       " 172,\n",
       " 4536,\n",
       " 1111,\n",
       " 17,\n",
       " 546,\n",
       " 38,\n",
       " 13,\n",
       " 447,\n",
       " 4,\n",
       " 192,\n",
       " 50,\n",
       " 16,\n",
       " 6,\n",
       " 147,\n",
       " 2025,\n",
       " 19,\n",
       " 14,\n",
       " 22,\n",
       " 4,\n",
       " 1920,\n",
       " 4613,\n",
       " 469,\n",
       " 4,\n",
       " 22,\n",
       " 71,\n",
       " 87,\n",
       " 12,\n",
       " 16,\n",
       " 43,\n",
       " 530,\n",
       " 38,\n",
       " 76,\n",
       " 15,\n",
       " 13,\n",
       " 1247,\n",
       " 4,\n",
       " 22,\n",
       " 17,\n",
       " 515,\n",
       " 17,\n",
       " 12,\n",
       " 16,\n",
       " 626,\n",
       " 18,\n",
       " 2,\n",
       " 5,\n",
       " 62,\n",
       " 386,\n",
       " 12,\n",
       " 8,\n",
       " 316,\n",
       " 8,\n",
       " 106,\n",
       " 5,\n",
       " 4,\n",
       " 2223,\n",
       " 5244,\n",
       " 16,\n",
       " 480,\n",
       " 66,\n",
       " 3785,\n",
       " 33,\n",
       " 4,\n",
       " 130,\n",
       " 12,\n",
       " 16,\n",
       " 38,\n",
       " 619,\n",
       " 5,\n",
       " 25,\n",
       " 124,\n",
       " 51,\n",
       " 36,\n",
       " 135,\n",
       " 48,\n",
       " 25,\n",
       " 1415,\n",
       " 33,\n",
       " 6,\n",
       " 22,\n",
       " 12,\n",
       " 215,\n",
       " 28,\n",
       " 77,\n",
       " 52,\n",
       " 5,\n",
       " 14,\n",
       " 407,\n",
       " 16,\n",
       " 82,\n",
       " 2,\n",
       " 8,\n",
       " 4,\n",
       " 107,\n",
       " 117,\n",
       " 5952,\n",
       " 15,\n",
       " 256,\n",
       " 4,\n",
       " 2,\n",
       " 7,\n",
       " 3766,\n",
       " 5,\n",
       " 723,\n",
       " 36,\n",
       " 71,\n",
       " 43,\n",
       " 530,\n",
       " 476,\n",
       " 26,\n",
       " 400,\n",
       " 317,\n",
       " 46,\n",
       " 7,\n",
       " 4,\n",
       " 2,\n",
       " 1029,\n",
       " 13,\n",
       " 104,\n",
       " 88,\n",
       " 4,\n",
       " 381,\n",
       " 15,\n",
       " 297,\n",
       " 98,\n",
       " 32,\n",
       " 2071,\n",
       " 56,\n",
       " 26,\n",
       " 141,\n",
       " 6,\n",
       " 194,\n",
       " 7486,\n",
       " 18,\n",
       " 4,\n",
       " 226,\n",
       " 22,\n",
       " 21,\n",
       " 134,\n",
       " 476,\n",
       " 26,\n",
       " 480,\n",
       " 5,\n",
       " 144,\n",
       " 30,\n",
       " 5535,\n",
       " 18,\n",
       " 51,\n",
       " 36,\n",
       " 28,\n",
       " 224,\n",
       " 92,\n",
       " 25,\n",
       " 104,\n",
       " 4,\n",
       " 226,\n",
       " 65,\n",
       " 16,\n",
       " 38,\n",
       " 1334,\n",
       " 88,\n",
       " 12,\n",
       " 16,\n",
       " 283,\n",
       " 5,\n",
       " 16,\n",
       " 4472,\n",
       " 113,\n",
       " 103,\n",
       " 32,\n",
       " 15,\n",
       " 16,\n",
       " 5345,\n",
       " 19,\n",
       " 178,\n",
       " 32]"
      ]
     },
     "execution_count": 3,
     "metadata": {},
     "output_type": "execute_result"
    }
   ],
   "source": [
    "train_data[0]"
   ]
  },
  {
   "cell_type": "code",
   "execution_count": 4,
   "metadata": {},
   "outputs": [
    {
     "data": {
      "text/plain": [
       "1"
      ]
     },
     "execution_count": 4,
     "metadata": {},
     "output_type": "execute_result"
    }
   ],
   "source": [
    "train_labels[0]"
   ]
  },
  {
   "cell_type": "code",
   "execution_count": 5,
   "metadata": {},
   "outputs": [
    {
     "data": {
      "text/plain": [
       "9999"
      ]
     },
     "execution_count": 5,
     "metadata": {},
     "output_type": "execute_result"
    }
   ],
   "source": [
    "max([max(sequence) for sequence in train_data]) #max frequency is 10000, list comprehension"
   ]
  },
  {
   "cell_type": "code",
   "execution_count": 6,
   "metadata": {},
   "outputs": [],
   "source": [
    "#decode review\n",
    "word_index = imdb.get_word_index() #name -> code\n",
    "reverse_word_index = dict([(value, key) for (key, value) in word_index.items()]) #reverse keys & vals\n",
    "decoded_review = ''.join([reverse_word_index.get(i-3, '?') for i in train_data[0]]) \n",
    "    #offset by 3 because 0, 1, 2 -> \"padding\", \"start of sequence\", \"unknown\""
   ]
  },
  {
   "cell_type": "code",
   "execution_count": 7,
   "metadata": {},
   "outputs": [],
   "source": [
    "# one-hot encode each index of x, x.shape = (numSamples, 10000)\n",
    "def vectorize_sequences(sequences, dimension=10000):\n",
    "    results = np.zeros((len(sequences), dimension))\n",
    "    for i, thisSequence in enumerate(sequences): #enumerate gives (index, sequences)\n",
    "        results[i, thisSequence] = 1.\n",
    "    return results"
   ]
  },
  {
   "cell_type": "code",
   "execution_count": 8,
   "metadata": {},
   "outputs": [],
   "source": [
    "x_train = vectorize_sequences(train_data)\n",
    "x_test = vectorize_sequences(test_data)"
   ]
  },
  {
   "cell_type": "code",
   "execution_count": 9,
   "metadata": {},
   "outputs": [
    {
     "data": {
      "text/plain": [
       "array([0., 1., 1., ..., 0., 0., 0.])"
      ]
     },
     "execution_count": 9,
     "metadata": {},
     "output_type": "execute_result"
    }
   ],
   "source": [
    "x_train[0]"
   ]
  },
  {
   "cell_type": "code",
   "execution_count": 10,
   "metadata": {},
   "outputs": [],
   "source": [
    "y_train = np.asarray(train_labels).astype('float32')\n",
    "y_test = np.asarray(test_labels).astype('float32')"
   ]
  },
  {
   "cell_type": "markdown",
   "metadata": {},
   "source": [
    "# Layers and Weight Regularizer\n",
    "Add L2 weight regularization"
   ]
  },
  {
   "cell_type": "code",
   "execution_count": 11,
   "metadata": {},
   "outputs": [],
   "source": [
    "from keras import models\n",
    "from keras import layers\n",
    "from keras import regularizers"
   ]
  },
  {
   "cell_type": "code",
   "execution_count": 12,
   "metadata": {},
   "outputs": [
    {
     "name": "stdout",
     "output_type": "stream",
     "text": [
      "WARNING:tensorflow:From /home/db1070/anaconda3/envs/DLPyBook/lib/python3.7/site-packages/keras/backend/tensorflow_backend.py:74: The name tf.get_default_graph is deprecated. Please use tf.compat.v1.get_default_graph instead.\n",
      "\n",
      "WARNING:tensorflow:From /home/db1070/anaconda3/envs/DLPyBook/lib/python3.7/site-packages/keras/backend/tensorflow_backend.py:517: The name tf.placeholder is deprecated. Please use tf.compat.v1.placeholder instead.\n",
      "\n",
      "WARNING:tensorflow:From /home/db1070/anaconda3/envs/DLPyBook/lib/python3.7/site-packages/keras/backend/tensorflow_backend.py:4138: The name tf.random_uniform is deprecated. Please use tf.random.uniform instead.\n",
      "\n"
     ]
    }
   ],
   "source": [
    "model = models.Sequential()\n",
    "model.add(layers.Dense(16, activation='relu', input_shape=(10000,)))\n",
    "model.add(layers.Dense(16, activation='relu'))\n",
    "model.add(layers.Dense(1, activation='sigmoid'))"
   ]
  },
  {
   "cell_type": "code",
   "execution_count": 13,
   "metadata": {},
   "outputs": [],
   "source": [
    "modelReg = models.Sequential()\n",
    "modelReg.add(layers.Dense(16, kernel_regularizer=regularizers.l2(0.001),\n",
    "                       activation='relu', input_shape=(10000,)))\n",
    "modelReg.add(layers.Dense(16, kernel_regularizer=regularizers.l2(0.001),\n",
    "                       activation='relu'))\n",
    "#l2(.001): every coefficient in weight matrix of layer will add .001 * weight_coefficient_value to total loss\n",
    "modelReg.add(layers.Dense(1, activation='sigmoid'))"
   ]
  },
  {
   "cell_type": "markdown",
   "metadata": {},
   "source": [
    "# Loss Function and Optimizer"
   ]
  },
  {
   "cell_type": "code",
   "execution_count": 14,
   "metadata": {},
   "outputs": [
    {
     "name": "stdout",
     "output_type": "stream",
     "text": [
      "WARNING:tensorflow:From /home/db1070/anaconda3/envs/DLPyBook/lib/python3.7/site-packages/keras/optimizers.py:790: The name tf.train.Optimizer is deprecated. Please use tf.compat.v1.train.Optimizer instead.\n",
      "\n",
      "WARNING:tensorflow:From /home/db1070/anaconda3/envs/DLPyBook/lib/python3.7/site-packages/keras/backend/tensorflow_backend.py:3376: The name tf.log is deprecated. Please use tf.math.log instead.\n",
      "\n",
      "WARNING:tensorflow:From /home/db1070/anaconda3/envs/DLPyBook/lib/python3.7/site-packages/tensorflow/python/ops/nn_impl.py:180: add_dispatch_support.<locals>.wrapper (from tensorflow.python.ops.array_ops) is deprecated and will be removed in a future version.\n",
      "Instructions for updating:\n",
      "Use tf.where in 2.0, which has the same broadcast rule as np.where\n"
     ]
    }
   ],
   "source": [
    "model.compile(optimizer='rmsprop',\n",
    "             loss='binary_crossentropy',\n",
    "             metrics=['accuracy'])"
   ]
  },
  {
   "cell_type": "code",
   "execution_count": 15,
   "metadata": {},
   "outputs": [],
   "source": [
    "modelReg.compile(optimizer='rmsprop',\n",
    "             loss='binary_crossentropy',\n",
    "             metrics=['accuracy'])"
   ]
  },
  {
   "cell_type": "markdown",
   "metadata": {},
   "source": [
    "# Partition Validation Data"
   ]
  },
  {
   "cell_type": "code",
   "execution_count": 16,
   "metadata": {},
   "outputs": [],
   "source": [
    "x_val = x_train[:10000]\n",
    "partial_x_train = x_train[10000:]\n",
    "y_val = y_train[:10000]\n",
    "partial_y_train = y_train[10000:]"
   ]
  },
  {
   "cell_type": "markdown",
   "metadata": {},
   "source": [
    "# Train Models"
   ]
  },
  {
   "cell_type": "code",
   "execution_count": 17,
   "metadata": {},
   "outputs": [
    {
     "name": "stdout",
     "output_type": "stream",
     "text": [
      "WARNING:tensorflow:From /home/db1070/anaconda3/envs/DLPyBook/lib/python3.7/site-packages/keras/backend/tensorflow_backend.py:986: The name tf.assign_add is deprecated. Please use tf.compat.v1.assign_add instead.\n",
      "\n",
      "Train on 15000 samples, validate on 10000 samples\n",
      "Epoch 1/20\n",
      "15000/15000 [==============================] - 2s 138us/step - loss: 0.5080 - acc: 0.7849 - val_loss: 0.3746 - val_acc: 0.8729\n",
      "Epoch 2/20\n",
      "15000/15000 [==============================] - 1s 81us/step - loss: 0.3007 - acc: 0.9020 - val_loss: 0.3248 - val_acc: 0.8679\n",
      "Epoch 3/20\n",
      "15000/15000 [==============================] - 1s 81us/step - loss: 0.2195 - acc: 0.9277 - val_loss: 0.2823 - val_acc: 0.8897\n",
      "Epoch 4/20\n",
      "15000/15000 [==============================] - 1s 83us/step - loss: 0.1719 - acc: 0.9435 - val_loss: 0.2747 - val_acc: 0.8883\n",
      "Epoch 5/20\n",
      "15000/15000 [==============================] - 1s 82us/step - loss: 0.1405 - acc: 0.9552 - val_loss: 0.3129 - val_acc: 0.8778\n",
      "Epoch 6/20\n",
      "15000/15000 [==============================] - 1s 82us/step - loss: 0.1129 - acc: 0.9653 - val_loss: 0.2989 - val_acc: 0.8852\n",
      "Epoch 7/20\n",
      "15000/15000 [==============================] - 1s 83us/step - loss: 0.0965 - acc: 0.9697 - val_loss: 0.3164 - val_acc: 0.8834\n",
      "Epoch 8/20\n",
      "15000/15000 [==============================] - 1s 85us/step - loss: 0.0766 - acc: 0.9783 - val_loss: 0.3391 - val_acc: 0.8801\n",
      "Epoch 9/20\n",
      "15000/15000 [==============================] - 1s 84us/step - loss: 0.0612 - acc: 0.9839 - val_loss: 0.3588 - val_acc: 0.8798\n",
      "Epoch 10/20\n",
      "15000/15000 [==============================] - 1s 87us/step - loss: 0.0477 - acc: 0.9886 - val_loss: 0.4345 - val_acc: 0.8678\n",
      "Epoch 11/20\n",
      "15000/15000 [==============================] - 1s 81us/step - loss: 0.0409 - acc: 0.9906 - val_loss: 0.4557 - val_acc: 0.8657\n",
      "Epoch 12/20\n",
      "15000/15000 [==============================] - 1s 82us/step - loss: 0.0311 - acc: 0.9941 - val_loss: 0.4522 - val_acc: 0.8745\n",
      "Epoch 13/20\n",
      "15000/15000 [==============================] - 1s 82us/step - loss: 0.0278 - acc: 0.9941 - val_loss: 0.4874 - val_acc: 0.8740\n",
      "Epoch 14/20\n",
      "15000/15000 [==============================] - 1s 86us/step - loss: 0.0203 - acc: 0.9961 - val_loss: 0.5153 - val_acc: 0.8704\n",
      "Epoch 15/20\n",
      "15000/15000 [==============================] - 1s 83us/step - loss: 0.0123 - acc: 0.9989 - val_loss: 0.5505 - val_acc: 0.8696\n",
      "Epoch 16/20\n",
      "15000/15000 [==============================] - 1s 85us/step - loss: 0.0121 - acc: 0.9985 - val_loss: 0.5841 - val_acc: 0.8691\n",
      "Epoch 17/20\n",
      "15000/15000 [==============================] - 1s 77us/step - loss: 0.0118 - acc: 0.9977 - val_loss: 0.6131 - val_acc: 0.8688\n",
      "Epoch 18/20\n",
      "15000/15000 [==============================] - 1s 72us/step - loss: 0.0049 - acc: 0.9999 - val_loss: 0.7674 - val_acc: 0.8484\n",
      "Epoch 19/20\n",
      "15000/15000 [==============================] - 1s 70us/step - loss: 0.0073 - acc: 0.9989 - val_loss: 0.6753 - val_acc: 0.8655\n",
      "Epoch 20/20\n",
      "15000/15000 [==============================] - 1s 69us/step - loss: 0.0029 - acc: 0.9999 - val_loss: 0.7052 - val_acc: 0.8680\n"
     ]
    }
   ],
   "source": [
    "history = model.fit(partial_x_train,\n",
    "                   partial_y_train,\n",
    "                    epochs=20,\n",
    "                    batch_size=512,\n",
    "                    validation_data=(x_val, y_val))"
   ]
  },
  {
   "cell_type": "code",
   "execution_count": 18,
   "metadata": {},
   "outputs": [
    {
     "name": "stdout",
     "output_type": "stream",
     "text": [
      "Train on 15000 samples, validate on 10000 samples\n",
      "Epoch 1/20\n",
      "15000/15000 [==============================] - 1s 86us/step - loss: 0.5676 - acc: 0.7866 - val_loss: 0.4389 - val_acc: 0.8662\n",
      "Epoch 2/20\n",
      "15000/15000 [==============================] - 1s 76us/step - loss: 0.3622 - acc: 0.8987 - val_loss: 0.3705 - val_acc: 0.8730\n",
      "Epoch 3/20\n",
      "15000/15000 [==============================] - 1s 83us/step - loss: 0.2915 - acc: 0.9205 - val_loss: 0.3332 - val_acc: 0.8896\n",
      "Epoch 4/20\n",
      "15000/15000 [==============================] - 1s 77us/step - loss: 0.2541 - acc: 0.9341 - val_loss: 0.3366 - val_acc: 0.8859\n",
      "Epoch 5/20\n",
      "15000/15000 [==============================] - 1s 81us/step - loss: 0.2305 - acc: 0.9423 - val_loss: 0.3273 - val_acc: 0.8893\n",
      "Epoch 6/20\n",
      "15000/15000 [==============================] - 1s 80us/step - loss: 0.2153 - acc: 0.9461 - val_loss: 0.3330 - val_acc: 0.8868\n",
      "Epoch 7/20\n",
      "15000/15000 [==============================] - 1s 72us/step - loss: 0.2010 - acc: 0.9551 - val_loss: 0.3600 - val_acc: 0.8809\n",
      "Epoch 8/20\n",
      "15000/15000 [==============================] - 1s 82us/step - loss: 0.1931 - acc: 0.9559 - val_loss: 0.3578 - val_acc: 0.8825\n",
      "Epoch 9/20\n",
      "15000/15000 [==============================] - 1s 82us/step - loss: 0.1844 - acc: 0.9599 - val_loss: 0.3813 - val_acc: 0.8779\n",
      "Epoch 10/20\n",
      "15000/15000 [==============================] - 1s 83us/step - loss: 0.1761 - acc: 0.9628 - val_loss: 0.3737 - val_acc: 0.8753\n",
      "Epoch 11/20\n",
      "15000/15000 [==============================] - 1s 82us/step - loss: 0.1707 - acc: 0.9658 - val_loss: 0.4178 - val_acc: 0.8711\n",
      "Epoch 12/20\n",
      "15000/15000 [==============================] - 1s 83us/step - loss: 0.1655 - acc: 0.9672 - val_loss: 0.3958 - val_acc: 0.8778\n",
      "Epoch 13/20\n",
      "15000/15000 [==============================] - 1s 78us/step - loss: 0.1594 - acc: 0.9699 - val_loss: 0.4763 - val_acc: 0.8490\n",
      "Epoch 14/20\n",
      "15000/15000 [==============================] - 1s 81us/step - loss: 0.1572 - acc: 0.9703 - val_loss: 0.4130 - val_acc: 0.8744\n",
      "Epoch 15/20\n",
      "15000/15000 [==============================] - 1s 81us/step - loss: 0.1527 - acc: 0.9735 - val_loss: 0.4211 - val_acc: 0.8738\n",
      "Epoch 16/20\n",
      "15000/15000 [==============================] - 1s 86us/step - loss: 0.1502 - acc: 0.9729 - val_loss: 0.4332 - val_acc: 0.8663\n",
      "Epoch 17/20\n",
      "15000/15000 [==============================] - 1s 78us/step - loss: 0.1446 - acc: 0.9762 - val_loss: 0.4188 - val_acc: 0.8722\n",
      "Epoch 18/20\n",
      "15000/15000 [==============================] - 1s 81us/step - loss: 0.1430 - acc: 0.9755 - val_loss: 0.4842 - val_acc: 0.8534\n",
      "Epoch 19/20\n",
      "15000/15000 [==============================] - 1s 81us/step - loss: 0.1405 - acc: 0.9777 - val_loss: 0.4307 - val_acc: 0.8731\n",
      "Epoch 20/20\n",
      "15000/15000 [==============================] - 1s 70us/step - loss: 0.1394 - acc: 0.9766 - val_loss: 0.4468 - val_acc: 0.8673\n"
     ]
    }
   ],
   "source": [
    "historyReg = modelReg.fit(partial_x_train,\n",
    "                   partial_y_train,\n",
    "                    epochs=20,\n",
    "                    batch_size=512,\n",
    "                    validation_data=(x_val, y_val))"
   ]
  },
  {
   "cell_type": "markdown",
   "metadata": {},
   "source": [
    "# Results"
   ]
  },
  {
   "cell_type": "code",
   "execution_count": 19,
   "metadata": {},
   "outputs": [
    {
     "data": {
      "text/plain": [
       "dict_keys(['val_loss', 'val_acc', 'loss', 'acc'])"
      ]
     },
     "execution_count": 19,
     "metadata": {},
     "output_type": "execute_result"
    }
   ],
   "source": [
    "history.history.keys()"
   ]
  },
  {
   "cell_type": "code",
   "execution_count": 20,
   "metadata": {},
   "outputs": [
    {
     "data": {
      "text/plain": [
       "[0.37458974194526673,\n",
       " 0.32476669516563417,\n",
       " 0.2823147870540619,\n",
       " 0.2747361021518707,\n",
       " 0.3128834726333618,\n",
       " 0.29885508346557615,\n",
       " 0.31635591678619385,\n",
       " 0.33908946967124937,\n",
       " 0.3588301465511322,\n",
       " 0.43451569867134093,\n",
       " 0.45571499509811403,\n",
       " 0.4521837179660797,\n",
       " 0.4874344349384308,\n",
       " 0.515261798286438,\n",
       " 0.5504888805866242,\n",
       " 0.584066519165039,\n",
       " 0.6130999487876893,\n",
       " 0.7674055177688599,\n",
       " 0.6752867017745972,\n",
       " 0.7051967536926269]"
      ]
     },
     "execution_count": 20,
     "metadata": {},
     "output_type": "execute_result"
    }
   ],
   "source": [
    "history.history.get('val_loss')"
   ]
  },
  {
   "cell_type": "code",
   "execution_count": 21,
   "metadata": {},
   "outputs": [
    {
     "data": {
      "text/plain": [
       "[0.43891915030479434,\n",
       " 0.3705348699569702,\n",
       " 0.3331894399166107,\n",
       " 0.33660898594856264,\n",
       " 0.3273495102405548,\n",
       " 0.3330442698478699,\n",
       " 0.36003671865463255,\n",
       " 0.3577519730091095,\n",
       " 0.3812510458946228,\n",
       " 0.3737196223258972,\n",
       " 0.4177617740631103,\n",
       " 0.39582779688835146,\n",
       " 0.47628958983421327,\n",
       " 0.4130021577358246,\n",
       " 0.42111313886642454,\n",
       " 0.4331812798023224,\n",
       " 0.4188109968185425,\n",
       " 0.4842497313976288,\n",
       " 0.4307318428039551,\n",
       " 0.4468322396755218]"
      ]
     },
     "execution_count": 21,
     "metadata": {},
     "output_type": "execute_result"
    }
   ],
   "source": [
    "historyReg.history.get('val_loss')"
   ]
  },
  {
   "cell_type": "code",
   "execution_count": 22,
   "metadata": {},
   "outputs": [],
   "source": [
    "import matplotlib.pyplot as plt"
   ]
  },
  {
   "cell_type": "code",
   "execution_count": 23,
   "metadata": {},
   "outputs": [
    {
     "data": {
      "image/png": "[encoded data removed]",
      "text/plain": [
       "<Figure size 432x288 with 1 Axes>"
      ]
     },
     "metadata": {
      "needs_background": "light"
     },
     "output_type": "display_data"
    }
   ],
   "source": [
    "valLoss = history.history.get('val_loss')\n",
    "valLossReg = historyReg.history.get('val_loss')\n",
    "epochs = range(1, len(valLoss) + 1)\n",
    "plt.plot(epochs, valLoss, 'b+', label='Standard Validation Loss')\n",
    "plt.plot(epochs, valLossReg, 'ro', label='Regularized Validation Loss')\n",
    "plt.title('Compare Validation Loss Standard vs. Regularized')\n",
    "plt.xlabel('Epochs')\n",
    "plt.ylabel('Validation Loss')\n",
    "plt.legend()\n",
    "plt.show()"
   ]
  },
  {
   "cell_type": "code",
   "execution_count": 24,
   "metadata": {},
   "outputs": [
    {
     "name": "stdout",
     "output_type": "stream",
     "text": [
      "['loss', 'acc']\n",
      "25000/25000 [==============================] - 2s 74us/step\n",
      "[0.7660266757798195, 0.85192]\n",
      "25000/25000 [==============================] - 2s 70us/step\n",
      "[0.47399399439811707, 0.85688]\n"
     ]
    }
   ],
   "source": [
    "print(model.metrics_names)\n",
    "print(model.evaluate(x_test, y_test))\n",
    "print(modelReg.evaluate(x_test, y_test))"
   ]
  },
  {
   "cell_type": "markdown",
   "metadata": {},
   "source": [
    "The regularized model appears to be less accurate, despite having less loss in the test set"
   ]
  },
  {
   "cell_type": "code",
   "execution_count": null,
   "metadata": {},
   "outputs": [],
   "source": []
  }
 ],
 "metadata": {
  "kernelspec": {
   "display_name": "Python 3",
   "language": "python",
   "name": "python3"
  },
  "language_info": {
   "codemirror_mode": {
    "name": "ipython",
    "version": 3
   },
   "file_extension": ".py",
   "mimetype": "text/x-python",
   "name": "python",
   "nbconvert_exporter": "python",
   "pygments_lexer": "ipython3",
   "version": "3.7.4"
  }
 },
 "nbformat": 4,
 "nbformat_minor": 4
}
